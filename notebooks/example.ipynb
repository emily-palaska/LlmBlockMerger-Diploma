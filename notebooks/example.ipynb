{
 "cells": [
  {
   "metadata": {},
   "cell_type": "markdown",
   "source": "def laplacian_parameters(G, symm):",
   "id": "48d8b578a08a4cc8"
  },
  {
   "cell_type": "code",
   "execution_count": null,
   "id": "initial_id",
   "metadata": {
    "collapsed": true
   },
   "outputs": [],
   "source": [
    "# calculate asymmetric Laplacian normalization\n",
    "degv = {v : float(len(list(G.neighbors(v))))**symm for v in G.nodes()}\n",
    "degu = {u : float(len(list(G.neighbors(u))))**(1-symm) for u in G.nodes()}"
   ]
  },
  {
   "metadata": {},
   "cell_type": "markdown",
   "source": "def visualize(G, p):",
   "id": "2d1aca6473739f2"
  },
  {
   "metadata": {},
   "cell_type": "code",
   "outputs": [],
   "execution_count": null,
   "source": [
    "# normalize priors\n",
    "p_sum = sum(p.values())\n",
    "normalized_prior_ranks = {u: p[u]/p_sum for u in p}\n",
    "#\n",
    "print('----- Visualizing using d3 -----')\n",
    "data = {}\n",
    "data['nodes'] = [{'id':str(u),'color_intensity':normalized_prior_ranks[u]} for u in G.nodes()]\n",
    "data['links'] = [{'source':str(node1),'target':str(node2),'value':1} for node1,node2 in G.edges()]\n",
    "import os, json\n",
    "with open('visualize/data.json', 'w') as outfile:  \n",
    "    json.dump(data, outfile)\n",
    "os.system('start firefox.exe \"file:///'+os.getcwd()+'/visualize/visualize.html\"')"
   ],
   "id": "a064ffaf36853686"
  },
  {
   "metadata": {},
   "cell_type": "markdown",
   "source": "def pagerank(G, prior_ranks, a, msq_error):",
   "id": "6731979c9bae8bf8"
  },
  {
   "metadata": {},
   "cell_type": "code",
   "outputs": [],
   "execution_count": null,
   "source": [
    "# calculate normalization parameters of symmetric Laplacian\n",
    "degv = {v : float(len(list(G.neighbors(v))))**0.5 for v in G.nodes()}\n",
    "degu = {u : float(len(list(G.neighbors(u))))**0.5 for u in G.nodes()}\n",
    "# iterate to calculate PageRank\n",
    "ranks = prior_ranks\n",
    "while True:\n",
    "    msq = 0\n",
    "    next_ranks = {}\n",
    "    for u in G.nodes():\n",
    "        rank = sum(ranks[v]/degv[v]/degu[u] for v in G.neighbors(u))\n",
    "        next_ranks[u] = rank*a + prior_ranks[u]*(1-a)\n",
    "        msq += (next_ranks[u]-ranks[u])**2\n",
    "    ranks = next_ranks\n",
    "    if msq/len(G.nodes())<msq_error:\n",
    "        break"
   ],
   "id": "9c7a59a7c60bc5e"
  },
  {
   "metadata": {},
   "cell_type": "markdown",
   "source": "def train_lr(x_train, y_train, preprocessing=\"normalize\"):",
   "id": "b0101a9aed23261b"
  },
  {
   "metadata": {},
   "cell_type": "code",
   "outputs": [],
   "execution_count": null,
   "source": [
    "# create a logistic regression model\n",
    "model = LogisticRegression()\n",
    "# select preprocessing method\n",
    "if preprocessing == \"normalize\":\n",
    "    # Normalize training data\n",
    "    x_train = (x_train - x_train.min(axis=0)) / (x_train.max(axis=0) - x_train.min(axis=0))\n",
    "elif preprocessing == \"standardize\":\n",
    "    # Standardize training data\n",
    "    x_train = (x_train - x_train.mean(axis=0)) / (x_train.std(axis=0))\n",
    "# train\n",
    "model.train(x_train, y_train)"
   ],
   "id": "b9ee3e7a250dd3a7"
  },
  {
   "metadata": {},
   "cell_type": "markdown",
   "source": "def test(x_train, y_train, x_test, y_test):",
   "id": "7628aa8bded3ad9d"
  },
  {
   "metadata": {},
   "cell_type": "code",
   "outputs": [],
   "execution_count": null,
   "source": [
    "# create a logistic regression\n",
    "model = LogisticRegression()\n",
    "model.train(x_train, y_train)\n",
    "# Evaluate using test data\n",
    "y_hat = model.predict(x_test, probs=True)"
   ],
   "id": "822ed07200aa0bee"
  },
  {
   "metadata": {},
   "cell_type": "markdown",
   "source": "def createSVR(x, y):",
   "id": "2cb0349f7f19acca"
  },
  {
   "metadata": {},
   "cell_type": "code",
   "outputs": [],
   "execution_count": null,
   "source": [
    "# create an svr model\n",
    "svr = SVR()\n",
    "svr.train(x, y)"
   ],
   "id": "39589dbbb7ee9367"
  },
  {
   "metadata": {},
   "cell_type": "markdown",
   "source": "def load_custom_model(path, CustomClassifier, x, y):",
   "id": "cf7484d747a2df13"
  },
  {
   "metadata": {},
   "cell_type": "code",
   "outputs": [],
   "execution_count": null,
   "source": [
    "if os.path.isfile(path):\n",
    "    custom = pickle.load(path)\n",
    "else:\n",
    "    custom = CustomClassifier()\n",
    "    custom.train(x, y)\n",
    "    # save\n",
    "    pickle.dump(custom, path)"
   ],
   "id": "728f2367ccd525b0"
  }
 ],
 "metadata": {
  "kernelspec": {
   "display_name": "Python 3",
   "language": "python",
   "name": "python3"
  },
  "language_info": {
   "codemirror_mode": {
    "name": "ipython",
    "version": 2
   },
   "file_extension": ".py",
   "mimetype": "text/x-python",
   "name": "python",
   "nbconvert_exporter": "python",
   "pygments_lexer": "ipython2",
   "version": "2.7.6"
  }
 },
 "nbformat": 4,
 "nbformat_minor": 5
}
