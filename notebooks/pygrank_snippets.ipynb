{
 "cells": [
  {
   "metadata": {},
   "cell_type": "code",
   "outputs": [],
   "execution_count": null,
   "source": "import pygrank as pg",
   "id": "3043ec7c320ade90"
  },
  {
   "metadata": {},
   "cell_type": "markdown",
   "source": "def test_pagerank(alpha=0.9):",
   "id": "f600576e08c53034"
  },
  {
   "cell_type": "code",
   "execution_count": null,
   "id": "initial_id",
   "metadata": {
    "collapsed": true
   },
   "outputs": [],
   "source": [
    "# load a small graph\n",
    "graph = pg.load_data([\"graph9\"])\n",
    "# define the pagerank algorithm\n",
    "algorithm = pg.PageRank(alpha)\n",
    "# run the algorithm"
   ]
  },
  {
   "metadata": {},
   "cell_type": "markdown",
   "source": "def algorithm_comparison():",
   "id": "a1a529493eb8d4f1"
  },
  {
   "metadata": {},
   "cell_type": "code",
   "outputs": [],
   "execution_count": null,
   "source": [
    "# load a bipartite graph\n",
    "loaded = pg.load_dataset_one_community([\"bigraph\"])\n",
    "graph = loaded[0]\n",
    "group = loaded[1]\n",
    "# convert group to graph signal\n",
    "signal = pg.to_signal(graph, group)\n",
    "# split signal to training and test subsets\n",
    "split = pg.var_split(signal)\n",
    "train = split[0]\n",
    "test = split[1]\n",
    "# create default pagerank\n",
    "ppr = pg.PageRank()\n",
    "# create default heat kernel\n",
    "hk = pg.HeatKernel()\n",
    "# define AUC as the measure of choice\n",
    "measure = pg.AUC(test, train)\n",
    "# assess\n",
    "print(measure(ppr.rank(train)))\n",
    "# assess\n",
    "print(measure(hk.rank(train)))"
   ],
   "id": "aaab7cfd07422a4b"
  },
  {
   "metadata": {},
   "cell_type": "markdown",
   "source": "def test_personalized_heatkernel(k=3):",
   "id": "d8c99fea858c0d0d"
  },
  {
   "metadata": {},
   "cell_type": "code",
   "outputs": [],
   "execution_count": null,
   "source": [
    "# load a bipartite graph\n",
    "loaded = pg.load_dataset_one_community([\"bigraph\"])\n",
    "graph = loaded[0]\n",
    "group = loaded[1]\n",
    "# convert group to graph signal\n",
    "signal = pg.to_signal(graph, group)\n",
    "# define the heat kernel algorithm\n",
    "algorithm = pg.HeatKernel(k)\n",
    "# run the personalized version of the algorithm\n",
    "return algorithm.rank(signal)"
   ],
   "id": "4bdc016d498837fd"
  }
 ],
 "metadata": {
  "kernelspec": {
   "display_name": "Python 3",
   "language": "python",
   "name": "python3"
  },
  "language_info": {
   "codemirror_mode": {
    "name": "ipython",
    "version": 2
   },
   "file_extension": ".py",
   "mimetype": "text/x-python",
   "name": "python",
   "nbconvert_exporter": "python",
   "pygments_lexer": "ipython2",
   "version": "2.7.6"
  }
 },
 "nbformat": 4,
 "nbformat_minor": 5
}
