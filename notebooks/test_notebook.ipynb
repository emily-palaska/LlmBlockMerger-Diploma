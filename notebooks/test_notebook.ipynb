{
 "cells": [
  {
   "cell_type": "markdown",
   "metadata": {},
   "source": [
    "# Functions in python",
    "\nSimple addition function"
   ],
   "id": "14092e479ba13df6"
  },
  {
   "cell_type": "code",
   "metadata": {},
   "source": [
    "# Example of usage:",
    "\ndef add(a, b):",
    "\n    return a + b",
    "# This is a simple addition function"
   ],
   "outputs": [],
   "execution_count": null,
   "id": "a4e9281d3b13c7b1"
  },
  {
   "cell_type": "markdown",
   "metadata": {},
   "source": "Testing it with two examples",
   "id": "9de54362a3c83ac3"
  },
  {
   "metadata": {},
   "cell_type": "code",
   "outputs": [],
   "execution_count": null,
   "source": [
    "result = add(2, 3)\n",
    "print(result)  # Should print 5"
   ],
   "id": "fc0d46cb4320a017"
  },
  {
   "metadata": {},
   "cell_type": "code",
   "outputs": [],
   "execution_count": null,
   "source": [
    "result = add(-1, 1)\n",
    "print(result) # Should print 0 "
   ],
   "id": "ae68d76b49319d4e"
  }
 ],
 "metadata": {},
 "nbformat": 4,
 "nbformat_minor": 5
}
