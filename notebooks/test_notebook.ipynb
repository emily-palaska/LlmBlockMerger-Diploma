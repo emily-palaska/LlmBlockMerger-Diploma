{
 "cells": [
  {
   "cell_type": "markdown",
   "metadata": {},
   "source": [
    "# Functions in python",
    "\nSimple addition function"
   ],
   "id": "14092e479ba13df6"
  },
  {
   "cell_type": "code",
   "metadata": {},
   "source": [
    "# Example of usage:\n",
    "def add(a, b):\n",
    "    return a + b # This is a simple addition function"
   ],
   "id": "a4e9281d3b13c7b1",
   "outputs": [],
   "execution_count": null
  },
  {
   "cell_type": "markdown",
   "metadata": {},
   "source": "Testing it with two examples",
   "id": "9de54362a3c83ac3"
  },
  {
   "metadata": {},
   "cell_type": "code",
   "source": [
    "result = add(2, 3)\n",
    "print(result)  # Should print 5"
   ],
   "id": "fc0d46cb4320a017",
   "outputs": [],
   "execution_count": null
  },
  {
   "metadata": {},
   "cell_type": "code",
   "source": [
    "result = add(-1, 1)\n",
    "print(result) # Should print 0 "
   ],
   "id": "ae68d76b49319d4e",
   "outputs": [],
   "execution_count": null
  }
 ],
 "metadata": {},
 "nbformat": 4,
 "nbformat_minor": 5
}
