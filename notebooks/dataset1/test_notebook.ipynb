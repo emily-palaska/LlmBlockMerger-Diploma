{
 "cells": [
  {
   "metadata": {},
   "cell_type": "markdown",
   "source": [
    "# Functions in python\n",
    "### Simple addition function"
   ],
   "id": "56bb25651802e1a0"
  },
  {
   "cell_type": "code",
   "metadata": {},
   "source": [
    "# This is a simple addition function\n",
    "def add(a, b):\n",
    "    def is_zero(b):\n",
    "        return b==0\n",
    "    return a + b if not is_zero(b) else b"
   ],
   "id": "a4e9281d3b13c7b1",
   "outputs": [],
   "execution_count": null
  },
  {
   "cell_type": "markdown",
   "metadata": {},
   "source": "### Testing it with two examples",
   "id": "9de54362a3c83ac3"
  },
  {
   "metadata": {},
   "cell_type": "code",
   "source": [
    "result = add(2, 3)\n",
    "print(result)  # Should print 5"
   ],
   "id": "fc0d46cb4320a017",
   "outputs": [],
   "execution_count": null
  },
  {
   "metadata": {},
   "cell_type": "code",
   "source": [
    "result = add(-1, 1)\n",
    "print(result) # Should print 0 "
   ],
   "id": "ae68d76b49319d4e",
   "outputs": [],
   "execution_count": null
  },
  {
   "metadata": {},
   "cell_type": "markdown",
   "source": "### Not an optimal scenario in comment association",
   "id": "1b55f392125b4d1c"
  },
  {
   "metadata": {},
   "cell_type": "code",
   "outputs": [],
   "execution_count": null,
   "source": [
    "# Example of usage\n",
    "def subtract(a, b):\n",
    "    # This is a simple subtraction function\n",
    "    return a - b\n",
    "\n",
    "# this result is positive\n",
    "result1 = subtract(3, 2)\n",
    "# this result is negative\n",
    "result2 = subtract(2, 3)\n"
   ],
   "id": "3416fa2d9f071785"
  }
 ],
 "metadata": {},
 "nbformat": 4,
 "nbformat_minor": 5
}
